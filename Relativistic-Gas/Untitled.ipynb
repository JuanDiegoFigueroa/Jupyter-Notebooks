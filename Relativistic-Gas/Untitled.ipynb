{
 "cells": [
  {
   "cell_type": "code",
   "execution_count": 1,
   "id": "26e6672f",
   "metadata": {},
   "outputs": [],
   "source": [
    "import numpy as np\n",
    "import pandas as pd\n",
    "import matplotlib.pyplot as plt\n",
    "import scipy.constants as sci\n",
    "import scipy.special.cython_special as especial"
   ]
  },
  {
   "cell_type": "code",
   "execution_count": 3,
   "id": "a00ef7b6",
   "metadata": {},
   "outputs": [
    {
     "name": "stdout",
     "output_type": "stream",
     "text": [
      "Using matplotlib backend: QtAgg\n"
     ]
    }
   ],
   "source": [
    "%matplotlib auto"
   ]
  },
  {
   "cell_type": "code",
   "execution_count": 4,
   "id": "28498b73",
   "metadata": {},
   "outputs": [],
   "source": [
    "# para deuterio-deuterio\n",
    "\n",
    "m0= 9.1094 * (10**(-31))  #kg\n",
    "c=sci.c #m/s\n",
    "T=1.5* 10**8 #Kelvin\n",
    "k=sci.k\n",
    "epsilon=m0*(c**2)*1/(k*T)\n",
    "#k2=np.sqrt(np.pi/(2*epsilon))*np.exp(-epsilon)\n",
    "k2=especial.kv(2, epsilon)"
   ]
  },
  {
   "cell_type": "code",
   "execution_count": 5,
   "id": "90776717",
   "metadata": {},
   "outputs": [
    {
     "name": "stderr",
     "output_type": "stream",
     "text": [
      "C:\\Users\\juandf\\AppData\\Local\\Temp\\ipykernel_10660\\1949906648.py:3: RuntimeWarning: divide by zero encountered in power\n",
      "  fMJ=(epsilon*(b**2)*(1-(b)**2)**(-5/2)*np.exp(-epsilon*(1-(b)**2)**(-1/2)))/k2\n",
      "C:\\Users\\juandf\\AppData\\Local\\Temp\\ipykernel_10660\\1949906648.py:3: RuntimeWarning: invalid value encountered in multiply\n",
      "  fMJ=(epsilon*(b**2)*(1-(b)**2)**(-5/2)*np.exp(-epsilon*(1-(b)**2)**(-1/2)))/k2\n"
     ]
    }
   ],
   "source": [
    "b=np.linspace(0,1,1000)\n",
    "\n",
    "fMJ=(epsilon*(b**2)*(1-(b)**2)**(-5/2)*np.exp(-epsilon*(1-(b)**2)**(-1/2)))/k2\n",
    "\n",
    "fMB=np.sqrt(2/np.pi) * epsilon**(3/2) * b**2 * np.exp(-epsilon * b**2 * 1/2)\n",
    "\n",
    "fig = plt.figure(figsize=(10, 5))\n",
    "plt.plot(b,fMJ,label='Maxwell-Jüttner')\n",
    "plt.plot(b,fMB,label='Maxwell-Boltzmann')\n",
    "plt.ylabel(r'f($ \\beta $)', fontsize = 15)\n",
    "plt.xlabel(r'$ \\beta $', fontsize = 15)\n",
    "plt.title('Ideal gas at 10 times the temperature of the interior of the sun', fontsize = 18)\n",
    "plt.legend(fontsize = 15, loc=0)\n",
    "plt.xticks(size = 15)\n",
    "plt.yticks(size = 15)\n",
    "plt.grid(True)\n",
    "plt.show()"
   ]
  },
  {
   "cell_type": "code",
   "execution_count": null,
   "id": "9981f542",
   "metadata": {},
   "outputs": [],
   "source": []
  },
  {
   "cell_type": "code",
   "execution_count": 6,
   "id": "aa3b5e33",
   "metadata": {},
   "outputs": [],
   "source": [
    "# para un poco mayor deuterio-deuterio\n",
    "\n",
    "m0= 9.1094 * (10**(-31))  #kg\n",
    "c=sci.c #m/s\n",
    "T=1.5* 10**8 *5#Kelvin\n",
    "k=sci.k\n",
    "epsilon=m0*(c**2)*1/(k*T)\n",
    "#k2=np.sqrt(np.pi/(2*epsilon))*np.exp(-epsilon)\n",
    "k2=especial.kv(2, epsilon)"
   ]
  },
  {
   "cell_type": "code",
   "execution_count": 7,
   "id": "a5b4f438",
   "metadata": {},
   "outputs": [
    {
     "name": "stderr",
     "output_type": "stream",
     "text": [
      "C:\\Users\\juandf\\AppData\\Local\\Temp\\ipykernel_10660\\864609838.py:3: RuntimeWarning: divide by zero encountered in power\n",
      "  fMJ=(epsilon*(b**2)*(1-(b)**2)**(-5/2)*np.exp(-epsilon*(1-(b)**2)**(-1/2)))/k2\n",
      "C:\\Users\\juandf\\AppData\\Local\\Temp\\ipykernel_10660\\864609838.py:3: RuntimeWarning: invalid value encountered in power\n",
      "  fMJ=(epsilon*(b**2)*(1-(b)**2)**(-5/2)*np.exp(-epsilon*(1-(b)**2)**(-1/2)))/k2\n",
      "C:\\Users\\juandf\\AppData\\Local\\Temp\\ipykernel_10660\\864609838.py:3: RuntimeWarning: invalid value encountered in multiply\n",
      "  fMJ=(epsilon*(b**2)*(1-(b)**2)**(-5/2)*np.exp(-epsilon*(1-(b)**2)**(-1/2)))/k2\n"
     ]
    }
   ],
   "source": [
    "b=np.linspace(0,1.5,1000)\n",
    "\n",
    "fMJ=(epsilon*(b**2)*(1-(b)**2)**(-5/2)*np.exp(-epsilon*(1-(b)**2)**(-1/2)))/k2\n",
    "\n",
    "fMB=np.sqrt(2/np.pi) * epsilon**(3/2) * b**2 * np.exp(-epsilon * b**2 * 1/2)\n",
    "\n",
    "fig = plt.figure(figsize=(10, 5))\n",
    "plt.plot(b,fMJ,label='Maxwell-Jüttner')\n",
    "plt.plot(b,fMB,label='Maxwell-Boltzmann')\n",
    "plt.ylabel(r'f($ \\beta $)', fontsize = 15)\n",
    "plt.xlabel(r'$ \\beta $', fontsize = 15)\n",
    "plt.title('Ideal gas at the temperature inside the red giants', fontsize = 18)\n",
    "plt.legend(fontsize = 15, loc=0)\n",
    "plt.xticks(size = 15)\n",
    "plt.yticks(size = 15)\n",
    "plt.grid(True)\n",
    "plt.show()"
   ]
  },
  {
   "cell_type": "code",
   "execution_count": null,
   "id": "72a10a4c",
   "metadata": {},
   "outputs": [],
   "source": []
  },
  {
   "cell_type": "code",
   "execution_count": 8,
   "id": "79ec2aac",
   "metadata": {},
   "outputs": [],
   "source": [
    "# para quasares\n",
    "\n",
    "m0= 1.6726 * 10**(-27)  #kg\n",
    "c=sci.c #m/s\n",
    "T=10**13#Kelvin\n",
    "k=sci.k\n",
    "epsilon=m0*(c**2)*1/(k*T)\n",
    "#k2=np.sqrt(np.pi/(2*epsilon))*np.exp(-epsilon)\n",
    "k2=especial.kv(2, epsilon)"
   ]
  },
  {
   "cell_type": "code",
   "execution_count": 9,
   "id": "b038f0cb",
   "metadata": {},
   "outputs": [
    {
     "name": "stderr",
     "output_type": "stream",
     "text": [
      "C:\\Users\\juandf\\AppData\\Local\\Temp\\ipykernel_10660\\1922443.py:3: RuntimeWarning: invalid value encountered in power\n",
      "  fMJ=(epsilon*(b**2)*(1-(b)**2)**(-5/2)*np.exp(-epsilon*(1-(b)**2)**(-1/2)))/k2\n"
     ]
    }
   ],
   "source": [
    "b=np.linspace(0,4,2000)\n",
    "\n",
    "fMJ=(epsilon*(b**2)*(1-(b)**2)**(-5/2)*np.exp(-epsilon*(1-(b)**2)**(-1/2)))/k2\n",
    "\n",
    "fMB=np.sqrt(2/np.pi) * epsilon**(3/2) * b**2 * np.exp(-epsilon * b**2 * 1/2)\n",
    "\n",
    "fig = plt.figure(figsize=(10, 5))\n",
    "\n",
    "x_fill = np.linspace(1, 4, 100)\n",
    "y_fill = np.sqrt(2/np.pi) * epsilon**(3/2) * x_fill**2 * np.exp(-epsilon * x_fill**2 * 1/2)\n",
    "\n",
    "plt.subplot(2,1,1)\n",
    "plt.title('Ideal gas at the temperature at which quasars are found', fontsize = 18)\n",
    "plt.plot(b,fMJ,label='Maxwell-Jüttner')\n",
    "plt.ylabel(r'f($ \\beta $)', fontsize = 12)\n",
    "plt.xlabel(r'$ \\beta $', fontsize = 12)\n",
    "plt.grid(True)\n",
    "plt.legend(fontsize = 15, loc=0)\n",
    "plt.xticks(size = 12)\n",
    "plt.yticks(size = 12)\n",
    "\n",
    "plt.subplot(2,1,2)\n",
    "plt.plot(b,fMB,color='r',label='Maxwell-Boltzmann')\n",
    "plt.fill_between(x_fill, y_fill, color='lightblue', alpha=0.5, label='physical meaningless values')\n",
    "plt.ylabel(r'f($ \\beta $)', fontsize = 12)\n",
    "plt.xlabel(r'$ \\beta $', fontsize = 12)\n",
    "plt.legend(fontsize = 15, loc=0)\n",
    "plt.xticks(size = 12)\n",
    "plt.yticks(size = 12)\n",
    "plt.grid(True)\n",
    "plt.show()"
   ]
  },
  {
   "cell_type": "code",
   "execution_count": null,
   "id": "26de5f50",
   "metadata": {},
   "outputs": [],
   "source": []
  },
  {
   "cell_type": "code",
   "execution_count": null,
   "id": "99d3ac43",
   "metadata": {},
   "outputs": [],
   "source": []
  }
 ],
 "metadata": {
  "kernelspec": {
   "display_name": "Python 3 (ipykernel)",
   "language": "python",
   "name": "python3"
  },
  "language_info": {
   "codemirror_mode": {
    "name": "ipython",
    "version": 3
   },
   "file_extension": ".py",
   "mimetype": "text/x-python",
   "name": "python",
   "nbconvert_exporter": "python",
   "pygments_lexer": "ipython3",
   "version": "3.9.12"
  }
 },
 "nbformat": 4,
 "nbformat_minor": 5
}
