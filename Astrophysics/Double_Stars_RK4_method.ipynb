{
 "cells": [
  {
   "cell_type": "code",
   "execution_count": 34,
   "id": "0f2b4b71",
   "metadata": {},
   "outputs": [],
   "source": [
    "import matplotlib.pyplot as plt\n",
    "import matplotlib.animation as animation\n",
    "import numpy as np\n",
    "import sys\n",
    "import random\n",
    "import animatplot as amp\n",
    "import pandas as pd\n",
    "G=6.67*(10**(-11))"
   ]
  },
  {
   "cell_type": "code",
   "execution_count": 35,
   "id": "e228a6a1",
   "metadata": {},
   "outputs": [],
   "source": [
    "def aceleracion(i,j,x,y):\n",
    "    rij=(x[i]-x[j])**2+(y[i]-y[j])**2\n",
    "    ax=-G*m[i]*(x[j]-x[i])/rij**(3/2)\n",
    "    ay=-G*m[i]*(y[j]-y[i])/rij**(3/2)\n",
    "    return ax,ay\n",
    "# rij es la distancia al cuadrado, acá las expresiones de aceleración salen de su forma vectorial"
   ]
  },
  {
   "cell_type": "code",
   "execution_count": 36,
   "id": "98d0c505",
   "metadata": {},
   "outputs": [],
   "source": [
    "def Fk(k,x,y,vx,vy):\n",
    "    akx=0\n",
    "    aky=0\n",
    "    for i in range(len(x)):\n",
    "        if i!=k:\n",
    "            aki=aceleracion(i,k,x,y)\n",
    "            akx+=aki[0]\n",
    "            aky+=aki[1]\n",
    "    return np.array([vx[k],vy[k],akx,aky])"
   ]
  },
  {
   "cell_type": "markdown",
   "id": "cbdebd96",
   "metadata": {},
   "source": [
    "## Esto es con RK4"
   ]
  },
  {
   "cell_type": "code",
   "execution_count": 28,
   "id": "100c4b1e",
   "metadata": {},
   "outputs": [],
   "source": [
    "def siguiente_valor(x,y,vx,vy):\n",
    "    k1=[]\n",
    "    for k in range(len(m)):\n",
    "        k1.append(h*Fk(k,x,y,vx,vy))\n",
    "\n",
    "    x1=tuple(x[i]+k1[i][0]/2 for i in range(len(m)))\n",
    "    y1=tuple(y[i]+k1[i][1]/2 for i in range(len(m)))\n",
    "    vx1=tuple(vx[i]+k1[i][2]/2 for i in range(len(m)))\n",
    "    vy1=tuple(vy[i]+k1[i][3]/2 for i in range(len(m)))\n",
    "\n",
    "    k2=[]\n",
    "    for k in range(len(m)):\n",
    "        k2.append(h*Fk(k,x1,y1,vx1,vy1))\n",
    "\n",
    "    x2=tuple(x[i]+k2[i][0]/2 for i in range(len(m)))\n",
    "    y2=tuple(y[i]+k2[i][1]/2 for i in range(len(m)))\n",
    "    vx2=tuple(vx[i]+k2[i][2]/2 for i in range(len(m)))\n",
    "    vy2=tuple(vy[i]+k2[i][3]/2 for i in range(len(m)))\n",
    "\n",
    "    k3=[]\n",
    "    for k in range(len(m)):\n",
    "        k3.append(h*Fk(k,x2,y2,vx2,vy2))\n",
    "\n",
    "    x3=tuple(x[i]+k3[i][0] for i in range(len(m)))\n",
    "    y3=tuple(y[i]+k3[i][1] for i in range(len(m)))\n",
    "    vx3=tuple(vx[i]+k3[i][2] for i in range(len(m)))\n",
    "    vy3=tuple(vy[i]+k3[i][3] for i in range(len(m)))\n",
    "\n",
    "    k4=[]\n",
    "    for k in range(len(m)):\n",
    "        k4.append(h*Fk(k,x3,y3,vx3,vy3))\n",
    "\n",
    "    xf=tuple(x[i]+(k1[i][0]+2*k2[i][0]+2*k3[i][0]+k4[i][0])/6 for i in range(len(m)))\n",
    "    yf=tuple(y[i]+(k1[i][1]+2*k2[i][1]+2*k3[i][1]+k4[i][1])/6 for i in range(len(m)))\n",
    "    vxf=tuple(vx[i]+(k1[i][2]+2*k2[i][2]+2*k3[i][2]+k4[i][2])/6 for i in range(len(m)))\n",
    "    vyf=tuple(vy[i]+(k1[i][3]+2*k2[i][3]+2*k3[i][3]+k4[i][3])/6 for i in range(len(m)))\n",
    "\n",
    "    return xf,yf,vxf,vyf"
   ]
  },
  {
   "cell_type": "markdown",
   "id": "60ccfdb6",
   "metadata": {},
   "source": [
    "## Esto es con Euler"
   ]
  },
  {
   "cell_type": "code",
   "execution_count": 37,
   "id": "b3f806d6",
   "metadata": {},
   "outputs": [],
   "source": [
    "def siguiente_valor(x,y,vx,vy):\n",
    "    k1=[]\n",
    "    for k in range(len(m)):\n",
    "        k1.append(h*Fk(k,x,y,vx,vy))\n",
    "\n",
    "    #x1=tuple(x[i]+k1[i][0]/2 for i in range(len(m)))\n",
    "    #y1=tuple(y[i]+k1[i][1]/2 for i in range(len(m)))\n",
    "    #vx1=tuple(vx[i]+k1[i][2]/2 for i in range(len(m)))\n",
    "    #vy1=tuple(vy[i]+k1[i][3]/2 for i in range(len(m)))\n",
    "\n",
    "    xf=tuple(x[i]+(k1[i][0]) for i in range(len(m)))\n",
    "    yf=tuple(y[i]+(k1[i][1]) for i in range(len(m)))\n",
    "    vxf=tuple(vx[i]+(k1[i][2]) for i in range(len(m)))\n",
    "    vyf=tuple(vy[i]+(k1[i][3]) for i in range(len(m)))\n",
    "\n",
    "    return xf,yf,vxf,vyf"
   ]
  },
  {
   "cell_type": "markdown",
   "id": "695e5155",
   "metadata": {},
   "source": [
    "## Initial conditions"
   ]
  },
  {
   "cell_type": "code",
   "execution_count": 38,
   "id": "ecfd0c29",
   "metadata": {},
   "outputs": [],
   "source": [
    "x = (0,70e9,260e9)\n",
    "y = (0,0,0)\n",
    "vx = (0,0,0)\n",
    "vy = (-2000,40000,24000)\n",
    "\n",
    "m=(2e30,2e28,6e23)\n",
    "N=15000\n",
    "h=10000\n",
    "G=6.67e-11\n",
    "\n",
    "X=[x]\n",
    "Y=[y]\n",
    "Vx=[vx]\n",
    "Vy=[vy]"
   ]
  },
  {
   "cell_type": "code",
   "execution_count": 39,
   "id": "bffa4cf4",
   "metadata": {},
   "outputs": [],
   "source": [
    "for t in range(N):\n",
    "    sig=siguiente_valor(X[t],Y[t],Vx[t],Vy[t])\n",
    "    X.append(sig[0])\n",
    "    Y.append(sig[1])\n",
    "    Vx.append(sig[2])\n",
    "    Vy.append(sig[3])\n",
    "\n",
    "X=np.array(X)\n",
    "Y=np.array(Y)\n",
    "Vx=np.array(Vx)\n",
    "Vy=np.array(Vy)"
   ]
  },
  {
   "cell_type": "code",
   "execution_count": 40,
   "id": "1e9c5efb",
   "metadata": {},
   "outputs": [],
   "source": [
    "def actualizar(i):\n",
    "    ax.clear()\n",
    "    #tipo='nr'\n",
    "    for t in range(len(m)):\n",
    "        if tipo=='nr':\n",
    "            x=X[:,t]\n",
    "            y=Y[:,t]\n",
    "            #tipo='r'\n",
    "        else:\n",
    "            x=X[:,t]-X[:,0]\n",
    "            y=Y[:,t]-Y[:,0]\n",
    "        if t==0:\n",
    "            ax.plot(x[:i],y[:i],'-')\n",
    "            ax.plot(x[i],y[i],'o',markersize=15,color='y',label='EstrellaG')\n",
    "        elif t==1:\n",
    "            ax.plot(x[:i],y[:i],'--')\n",
    "            ax.plot(x[i],y[i],'*',markersize=10,color='c',label='EstrellaP')\n",
    "        else:\n",
    "            ax.plot(x[:i],y[:i],'-',label=f'Planeta {t-1}')\n",
    "            ax.plot(x[i],y[i],'o',markersize=10,color='b')\n",
    "    plt.grid()\n",
    "    plt.legend()"
   ]
  },
  {
   "cell_type": "code",
   "execution_count": 42,
   "id": "df615336",
   "metadata": {
    "scrolled": true
   },
   "outputs": [
    {
     "name": "stdout",
     "output_type": "stream",
     "text": [
      "Using matplotlib backend: QtAgg\n"
     ]
    }
   ],
   "source": [
    "%matplotlib auto"
   ]
  },
  {
   "cell_type": "markdown",
   "id": "8e1fd3a1",
   "metadata": {},
   "source": [
    "## Plot"
   ]
  },
  {
   "cell_type": "code",
   "execution_count": 43,
   "id": "f901dad8",
   "metadata": {},
   "outputs": [
    {
     "name": "stderr",
     "output_type": "stream",
     "text": [
      "No artists with labels found to put in legend.  Note that artists whose label start with an underscore are ignored when legend() is called with no argument.\n"
     ]
    }
   ],
   "source": [
    "tipo='r'\n",
    "\n",
    "fig=plt.figure()\n",
    "ax=fig.gca()\n",
    "\n",
    "plt.xlim(-3*pow(10,11),3*pow(10,11))\n",
    "plt.ylim(-0.75*pow(10,12),0.25*pow(10,12))\n",
    "plt.xlabel('Eje X')\n",
    "plt.ylabel('Eje Y')\n",
    "plt.title('Grafica de trayectoria')\n",
    "plt.grid()\n",
    "plt.legend()\n",
    "ani=animation.FuncAnimation(fig,actualizar,range(0,N,1000))\n",
    "plt.show()"
   ]
  },
  {
   "cell_type": "markdown",
   "id": "c63b528f",
   "metadata": {},
   "source": [
    "## Datossss"
   ]
  },
  {
   "cell_type": "code",
   "execution_count": 23,
   "id": "0e62b2f4",
   "metadata": {
    "scrolled": false
   },
   "outputs": [
    {
     "data": {
      "text/html": [
       "<div>\n",
       "<style scoped>\n",
       "    .dataframe tbody tr th:only-of-type {\n",
       "        vertical-align: middle;\n",
       "    }\n",
       "\n",
       "    .dataframe tbody tr th {\n",
       "        vertical-align: top;\n",
       "    }\n",
       "\n",
       "    .dataframe thead th {\n",
       "        text-align: right;\n",
       "    }\n",
       "</style>\n",
       "<table border=\"1\" class=\"dataframe\">\n",
       "  <thead>\n",
       "    <tr style=\"text-align: right;\">\n",
       "      <th></th>\n",
       "      <th>Time</th>\n",
       "      <th>X(t)</th>\n",
       "      <th>Y(t)</th>\n",
       "      <th>Vx(t)</th>\n",
       "      <th>Vy(t)</th>\n",
       "      <th>Distance to the main star</th>\n",
       "      <th>Angular momentum</th>\n",
       "      <th>Energy</th>\n",
       "    </tr>\n",
       "  </thead>\n",
       "  <tbody>\n",
       "    <tr>\n",
       "      <th>0</th>\n",
       "      <td>0.0</td>\n",
       "      <td>2.600000e+11</td>\n",
       "      <td>0.000000e+00</td>\n",
       "      <td>0.000000</td>\n",
       "      <td>24000.000000</td>\n",
       "      <td>2.600000e+11</td>\n",
       "      <td>3.744000e+39</td>\n",
       "      <td>-1.392588e+32</td>\n",
       "    </tr>\n",
       "    <tr>\n",
       "      <th>1</th>\n",
       "      <td>10000.0</td>\n",
       "      <td>2.600000e+11</td>\n",
       "      <td>2.400000e+08</td>\n",
       "      <td>-20.103257</td>\n",
       "      <td>24000.000000</td>\n",
       "      <td>2.600001e+11</td>\n",
       "      <td>3.744003e+39</td>\n",
       "      <td>-1.392585e+32</td>\n",
       "    </tr>\n",
       "    <tr>\n",
       "      <th>2</th>\n",
       "      <td>20000.0</td>\n",
       "      <td>2.599998e+11</td>\n",
       "      <td>4.800000e+08</td>\n",
       "      <td>-40.206484</td>\n",
       "      <td>23999.980577</td>\n",
       "      <td>2.600002e+11</td>\n",
       "      <td>3.744006e+39</td>\n",
       "      <td>-1.392582e+32</td>\n",
       "    </tr>\n",
       "    <tr>\n",
       "      <th>3</th>\n",
       "      <td>30000.0</td>\n",
       "      <td>2.599994e+11</td>\n",
       "      <td>7.199998e+08</td>\n",
       "      <td>-60.309646</td>\n",
       "      <td>23999.941732</td>\n",
       "      <td>2.600004e+11</td>\n",
       "      <td>3.744008e+39</td>\n",
       "      <td>-1.392579e+32</td>\n",
       "    </tr>\n",
       "    <tr>\n",
       "      <th>4</th>\n",
       "      <td>40000.0</td>\n",
       "      <td>2.599988e+11</td>\n",
       "      <td>9.599992e+08</td>\n",
       "      <td>-80.412707</td>\n",
       "      <td>23999.883465</td>\n",
       "      <td>2.600006e+11</td>\n",
       "      <td>3.744011e+39</td>\n",
       "      <td>-1.392575e+32</td>\n",
       "    </tr>\n",
       "    <tr>\n",
       "      <th>...</th>\n",
       "      <td>...</td>\n",
       "      <td>...</td>\n",
       "      <td>...</td>\n",
       "      <td>...</td>\n",
       "      <td>...</td>\n",
       "      <td>...</td>\n",
       "      <td>...</td>\n",
       "      <td>...</td>\n",
       "    </tr>\n",
       "    <tr>\n",
       "      <th>14996</th>\n",
       "      <td>149960000.0</td>\n",
       "      <td>-3.176923e+11</td>\n",
       "      <td>2.622764e+10</td>\n",
       "      <td>-13014.707782</td>\n",
       "      <td>-11766.858519</td>\n",
       "      <td>3.187731e+11</td>\n",
       "      <td>2.447751e+39</td>\n",
       "      <td>-1.602716e+32</td>\n",
       "    </tr>\n",
       "    <tr>\n",
       "      <th>14997</th>\n",
       "      <td>149970000.0</td>\n",
       "      <td>-3.178224e+11</td>\n",
       "      <td>2.610997e+10</td>\n",
       "      <td>-13008.636732</td>\n",
       "      <td>-11771.898297</td>\n",
       "      <td>3.188931e+11</td>\n",
       "      <td>2.448617e+39</td>\n",
       "      <td>-1.601891e+32</td>\n",
       "    </tr>\n",
       "    <tr>\n",
       "      <th>14998</th>\n",
       "      <td>149980000.0</td>\n",
       "      <td>-3.179525e+11</td>\n",
       "      <td>2.599225e+10</td>\n",
       "      <td>-13002.564789</td>\n",
       "      <td>-11776.934828</td>\n",
       "      <td>3.190132e+11</td>\n",
       "      <td>2.449483e+39</td>\n",
       "      <td>-1.601067e+32</td>\n",
       "    </tr>\n",
       "    <tr>\n",
       "      <th>14999</th>\n",
       "      <td>149990000.0</td>\n",
       "      <td>-3.180825e+11</td>\n",
       "      <td>2.587448e+10</td>\n",
       "      <td>-12996.491956</td>\n",
       "      <td>-11781.968113</td>\n",
       "      <td>3.191332e+11</td>\n",
       "      <td>2.450349e+39</td>\n",
       "      <td>-1.600244e+32</td>\n",
       "    </tr>\n",
       "    <tr>\n",
       "      <th>15000</th>\n",
       "      <td>150000000.0</td>\n",
       "      <td>-3.182125e+11</td>\n",
       "      <td>2.575666e+10</td>\n",
       "      <td>-12990.418233</td>\n",
       "      <td>-11786.998153</td>\n",
       "      <td>3.192532e+11</td>\n",
       "      <td>2.451216e+39</td>\n",
       "      <td>-1.599422e+32</td>\n",
       "    </tr>\n",
       "  </tbody>\n",
       "</table>\n",
       "<p>15001 rows × 8 columns</p>\n",
       "</div>"
      ],
      "text/plain": [
       "              Time          X(t)          Y(t)         Vx(t)         Vy(t)  \\\n",
       "0              0.0  2.600000e+11  0.000000e+00      0.000000  24000.000000   \n",
       "1          10000.0  2.600000e+11  2.400000e+08    -20.103257  24000.000000   \n",
       "2          20000.0  2.599998e+11  4.800000e+08    -40.206484  23999.980577   \n",
       "3          30000.0  2.599994e+11  7.199998e+08    -60.309646  23999.941732   \n",
       "4          40000.0  2.599988e+11  9.599992e+08    -80.412707  23999.883465   \n",
       "...            ...           ...           ...           ...           ...   \n",
       "14996  149960000.0 -3.176923e+11  2.622764e+10 -13014.707782 -11766.858519   \n",
       "14997  149970000.0 -3.178224e+11  2.610997e+10 -13008.636732 -11771.898297   \n",
       "14998  149980000.0 -3.179525e+11  2.599225e+10 -13002.564789 -11776.934828   \n",
       "14999  149990000.0 -3.180825e+11  2.587448e+10 -12996.491956 -11781.968113   \n",
       "15000  150000000.0 -3.182125e+11  2.575666e+10 -12990.418233 -11786.998153   \n",
       "\n",
       "       Distance to the main star  Angular momentum        Energy  \n",
       "0                   2.600000e+11      3.744000e+39 -1.392588e+32  \n",
       "1                   2.600001e+11      3.744003e+39 -1.392585e+32  \n",
       "2                   2.600002e+11      3.744006e+39 -1.392582e+32  \n",
       "3                   2.600004e+11      3.744008e+39 -1.392579e+32  \n",
       "4                   2.600006e+11      3.744011e+39 -1.392575e+32  \n",
       "...                          ...               ...           ...  \n",
       "14996               3.187731e+11      2.447751e+39 -1.602716e+32  \n",
       "14997               3.188931e+11      2.448617e+39 -1.601891e+32  \n",
       "14998               3.190132e+11      2.449483e+39 -1.601067e+32  \n",
       "14999               3.191332e+11      2.450349e+39 -1.600244e+32  \n",
       "15000               3.192532e+11      2.451216e+39 -1.599422e+32  \n",
       "\n",
       "[15001 rows x 8 columns]"
      ]
     },
     "execution_count": 23,
     "metadata": {},
     "output_type": "execute_result"
    }
   ],
   "source": [
    "NN=np.linspace(0,N,N+1)\n",
    "\n",
    "data = {'Time':NN*h,\n",
    "        'X(t)':X[:,2],\n",
    "        'Y(t)':Y[:,2],\n",
    "        'Vx(t)':Vx[:,2],\n",
    "        'Vy(t)':Vy[:,2],\n",
    "        'Distance to the main star':np.sqrt(X[:,2]**2 + Y[:,2]**2),\n",
    "        'Angular momentum':m[2]*(X[:,2]*Vy[:,2]-Y[:,2]*Vx[:,2]),\n",
    "        'Energy':(1/2)*m[2]*(Vx[:,2]**2 + Vy[:,2]**2)-(G*m[0]*m[2]/(np.sqrt(X[:,2]**2 + Y[:,2]**2)))-(G*m[1]*m[2]/(np.sqrt((X[:,2]-X[:,1])**2 + (Y[:,2]-Y[:,1])**2)))\n",
    "        }\n",
    "\n",
    "df = pd.DataFrame(data)\n",
    "df"
   ]
  },
  {
   "cell_type": "code",
   "execution_count": 24,
   "id": "a66f495a",
   "metadata": {},
   "outputs": [],
   "source": [
    "plt.plot(df['Time'],df['Energy'])\n",
    "plt.xlabel('Time [sec]')\n",
    "plt.ylabel('Energy [J]')\n",
    "plt.title('Energy behavior')\n",
    "plt.grid()"
   ]
  },
  {
   "cell_type": "code",
   "execution_count": 25,
   "id": "94f7a802",
   "metadata": {},
   "outputs": [],
   "source": [
    "plt.plot(df['Time'],df['Angular momentum'])\n",
    "plt.xlabel('Time [sec]')\n",
    "plt.ylabel('Angular momentum')\n",
    "plt.title('L behavior')\n",
    "plt.grid()"
   ]
  },
  {
   "cell_type": "code",
   "execution_count": 33,
   "id": "7a250b61",
   "metadata": {},
   "outputs": [],
   "source": [
    "tipo='r'\n",
    "\n",
    "fig=plt.figure()\n",
    "ax=fig.gca()\n",
    "\n",
    "ani=animation.FuncAnimation(fig,actualizar,range(0,N,100))\n",
    "writergif = animation.PillowWriter(fps=30)\n",
    "ani.save('planeta.gif',writer=writergif)\n",
    "plt.show()"
   ]
  },
  {
   "cell_type": "code",
   "execution_count": null,
   "id": "e2e14fc3",
   "metadata": {},
   "outputs": [],
   "source": [
    "tt=np.linspace(0,N,N+1)"
   ]
  },
  {
   "cell_type": "code",
   "execution_count": null,
   "id": "4d3bbbe4",
   "metadata": {},
   "outputs": [],
   "source": []
  },
  {
   "cell_type": "code",
   "execution_count": null,
   "id": "ab696104",
   "metadata": {},
   "outputs": [],
   "source": []
  }
 ],
 "metadata": {
  "kernelspec": {
   "display_name": "Python 3 (ipykernel)",
   "language": "python",
   "name": "python3"
  },
  "language_info": {
   "codemirror_mode": {
    "name": "ipython",
    "version": 3
   },
   "file_extension": ".py",
   "mimetype": "text/x-python",
   "name": "python",
   "nbconvert_exporter": "python",
   "pygments_lexer": "ipython3",
   "version": "3.9.12"
  }
 },
 "nbformat": 4,
 "nbformat_minor": 5
}
