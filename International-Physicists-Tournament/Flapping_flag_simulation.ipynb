{
 "cells": [
  {
   "cell_type": "code",
   "execution_count": 13,
   "id": "d3fcedbf",
   "metadata": {},
   "outputs": [],
   "source": [
    "import matplotlib.pyplot as plt\n",
    "import matplotlib.animation as animation\n",
    "import numpy as np\n",
    "import sys\n",
    "import random\n",
    "import animatplot as amp"
   ]
  },
  {
   "cell_type": "code",
   "execution_count": 14,
   "id": "1c770897",
   "metadata": {},
   "outputs": [],
   "source": [
    "K=1\n",
    "M=1 \n",
    "wind=0.3 # tomar valores entre 0.03 y 0.3\n",
    "g=0.0098*2"
   ]
  },
  {
   "cell_type": "code",
   "execution_count": 15,
   "id": "64c9cfa1",
   "metadata": {},
   "outputs": [],
   "source": [
    "def aceleracion(i,x,y):\n",
    "    #rij=(x[i]-x[j])**2+(y[i]-y[j])**2\n",
    "    #ax=-G*m[i]*(x[j]-x[i])/rij**(3/2)\n",
    "    #ay=-G*m[i]*(y[j]-y[i])/rij**(3/2)\n",
    "    if i==0:\n",
    "        ax=0\n",
    "        ay=0\n",
    "    #esto es por si está empotrada\n",
    "    #elif i==1:\n",
    "        #ax=0\n",
    "        #ay=0\n",
    "    elif i==len(m)-1:\n",
    "        ax=0\n",
    "        ay=(K/M)*(y[i-1]-y[i]) - (1/M)*wind*(y[i]-y[i-1])/(np.sqrt((x[i]-x[i-1])**2 + (y[i]-y[i-1])**2)) - g\n",
    "    else:\n",
    "        #ax=(K/M)*(x[i+1]+x[i-1]-2*x[i]) + 0.01*(1/M)*wind*(x[i+1]-x[i])/(np.sqrt((x[i+1]-x[i])**2 + (y[i+1]-y[i])**2))\n",
    "        #ay=(K/M)*(y[i+1]+y[i-1]-2*y[i]) - (1/M)*wind*(y[i+1]-y[i])/(np.sqrt((x[i+1]-x[i])**2 + (y[i+1]-y[i])**2))\n",
    "        \n",
    "        ax=(K/M)*(x[i+1]+x[i-1]-2*x[i]) + (1/M)*0.0001*(y[i+1]-y[i])/(np.sqrt((x[i+1]-x[i])**2 + (y[i+1]-y[i])**2))*wind*(y[i+1]-y[i])/(np.sqrt((x[i+1]-x[i])**2 + (y[i+1]-y[i])**2))\n",
    "        ay=(K/M)*(y[i+1]+y[i-1]-2*y[i]) - (1/M)*wind*(y[i+1]-y[i])/(np.sqrt((x[i+1]-x[i])**2 + (y[i+1]-y[i])**2)) - g\n",
    "\n",
    "    return ax,ay"
   ]
  },
  {
   "cell_type": "code",
   "execution_count": 16,
   "id": "500537e2",
   "metadata": {},
   "outputs": [],
   "source": [
    "def Fk(k,x,y,vx,vy):\n",
    "    akx=0\n",
    "    aky=0\n",
    "    #for i in range(1,3):\n",
    "        #if i!=k:\n",
    "    aki=aceleracion(k,x,y)\n",
    "    akx=aki[0]\n",
    "    aky=aki[1]\n",
    "    return np.array([vx[k],vy[k],akx,aky])"
   ]
  },
  {
   "cell_type": "code",
   "execution_count": 17,
   "id": "14574b3d",
   "metadata": {},
   "outputs": [],
   "source": [
    "def siguiente_valor(x,y,vx,vy):\n",
    "    k1=[]\n",
    "    for k in range(len(m)):\n",
    "        k1.append(h*Fk(k,x,y,vx,vy))\n",
    "\n",
    "    x1=tuple(x[i]+k1[i][0]/2 for i in range(len(m)))\n",
    "    y1=tuple(y[i]+k1[i][1]/2 for i in range(len(m)))\n",
    "    vx1=tuple(vx[i]+k1[i][2]/2 for i in range(len(m)))\n",
    "    vy1=tuple(vy[i]+k1[i][3]/2 for i in range(len(m)))\n",
    "\n",
    "    k2=[]\n",
    "    for k in range(len(m)):\n",
    "        k2.append(h*Fk(k,x1,y1,vx1,vy1))\n",
    "\n",
    "    x2=tuple(x[i]+k2[i][0]/2 for i in range(len(m)))\n",
    "    y2=tuple(y[i]+k2[i][1]/2 for i in range(len(m)))\n",
    "    vx2=tuple(vx[i]+k2[i][2]/2 for i in range(len(m)))\n",
    "    vy2=tuple(vy[i]+k2[i][3]/2 for i in range(len(m)))\n",
    "\n",
    "    k3=[]\n",
    "    for k in range(len(m)):\n",
    "        k3.append(h*Fk(k,x2,y2,vx2,vy2))\n",
    "\n",
    "    x3=tuple(x[i]+k3[i][0] for i in range(len(m)))\n",
    "    y3=tuple(y[i]+k3[i][1] for i in range(len(m)))\n",
    "    vx3=tuple(vx[i]+k3[i][2] for i in range(len(m)))\n",
    "    vy3=tuple(vy[i]+k3[i][3] for i in range(len(m)))\n",
    "\n",
    "    k4=[]\n",
    "    for k in range(len(m)):\n",
    "        k4.append(h*Fk(k,x3,y3,vx3,vy3))\n",
    "\n",
    "    xf=tuple(x[i]+(k1[i][0]+2*k2[i][0]+2*k3[i][0]+k4[i][0])/6 for i in range(len(m)))\n",
    "    yf=tuple(y[i]+(k1[i][1]+2*k2[i][1]+2*k3[i][1]+k4[i][1])/6 for i in range(len(m)))\n",
    "    vxf=tuple(vx[i]+(k1[i][2]+2*k2[i][2]+2*k3[i][2]+k4[i][2])/6 for i in range(len(m)))\n",
    "    vyf=tuple(vy[i]+(k1[i][3]+2*k2[i][3]+2*k3[i][3]+k4[i][3])/6 for i in range(len(m)))\n",
    "\n",
    "    return xf,yf,vxf,vyf"
   ]
  },
  {
   "cell_type": "code",
   "execution_count": 28,
   "id": "03185be5",
   "metadata": {},
   "outputs": [],
   "source": [
    "#Este es el melo\n",
    "particles=20\n",
    "y=[]\n",
    "x=[]\n",
    "for i in range(particles):\n",
    "    y.append(random.random())\n",
    "    x.append(i/particles)\n",
    "y=np.sort(y)\n",
    "vx = np.zeros(particles)\n",
    "vy = np.zeros(particles)\n",
    "\n",
    "m=np.zeros(particles)+1\n",
    "N=60000\n",
    "h=0.001\n",
    "#G=6.67e-11\n",
    "\n",
    "X=[x]\n",
    "Y=[y]\n",
    "Vx=[vx]\n",
    "Vy=[vy]"
   ]
  },
  {
   "cell_type": "code",
   "execution_count": null,
   "id": "053001fa",
   "metadata": {},
   "outputs": [],
   "source": [
    "#Esto es para comparar con la analítica, solo cambia la posición incial, tener cuidado con los valores de aceleración del inicio\n",
    "\n",
    "particles=20\n",
    "y=[]\n",
    "x=[]\n",
    "kn=8\n",
    "for i in range(particles):\n",
    "    x.append(i/particles)\n",
    "    y.append((np.sin(kn*x[i])+((np.sin(kn))/(np.sinh(kn)))*np.sinh(kn*x[i]))*4)\n",
    "#y=np.sort(y)\n",
    "vx = np.zeros(particles)\n",
    "vy = np.zeros(particles)\n",
    "\n",
    "m=np.zeros(particles)+1\n",
    "N=40000\n",
    "h=0.001\n",
    "#G=6.67e-11\n",
    "\n",
    "X=[x]\n",
    "Y=[y]\n",
    "Vx=[vx]\n",
    "Vy=[vy]"
   ]
  },
  {
   "cell_type": "code",
   "execution_count": 29,
   "id": "d18c33c5",
   "metadata": {},
   "outputs": [],
   "source": [
    "for t in range(N):\n",
    "    sig=siguiente_valor(X[t],Y[t],Vx[t],Vy[t])\n",
    "    X.append(sig[0])\n",
    "    Y.append(sig[1])\n",
    "    Vx.append(sig[2])\n",
    "    Vy.append(sig[3])\n",
    "\n",
    "X=np.array(X)\n",
    "Y=np.array(Y)"
   ]
  },
  {
   "cell_type": "code",
   "execution_count": 30,
   "id": "fbf0ede1",
   "metadata": {},
   "outputs": [],
   "source": [
    "def actualizar(i):\n",
    "    ax.clear()\n",
    "    #tipo='nr'\n",
    "    for t in range(len(m)):\n",
    "        if tipo=='nr':\n",
    "            x=X[:,t]\n",
    "            y=Y[:,t]\n",
    "            #tipo='r'\n",
    "        else:\n",
    "            x=X[:,t]-X[:,0]\n",
    "            y=Y[:,t]-Y[:,0]\n",
    "        #if t==0:\n",
    "            #ax.plot(x[:i],y[:i],linewidth=0)\n",
    "            #plt.plot(x[i],y[i],'o',markersize=5,color='y')\n",
    "            #plt.plot(x[i],y[i],'--')\n",
    "        #elif t==1:\n",
    "            #ax.plot(x[:i],y[:i],linewidth=0)\n",
    "            #plt.plot(x[i],y[i],'o',markersize=5,color='c')\n",
    "            #plt.plot(x[i],y[i],'--')\n",
    "        #else:\n",
    "        ax.plot(21*x[:i],(1/3)*y[:i],linewidth=0)\n",
    "        #plt.plot(x[i],y[i],'o',markersize=5,color='b')\n",
    "    plt.plot(21*X[i,:],(1/3)*Y[i,:],'-o',markersize=5,color='b')\n",
    "    ax.set_xlim(0,21)\n",
    "    ax.set_ylim(-10,10)\n",
    "    plt.xlabel('Horizontal position [cm]',fontsize=12)\n",
    "    plt.ylabel('Vertical position [cm]',fontsize=12)\n",
    "    plt.title('Flapping flag with high velocity air-flow',fontsize=15)\n",
    "    plt.xticks(size = 12)\n",
    "    plt.yticks(size = 12)\n",
    "    plt.grid()"
   ]
  },
  {
   "cell_type": "code",
   "execution_count": 23,
   "id": "39f68425",
   "metadata": {},
   "outputs": [
    {
     "name": "stdout",
     "output_type": "stream",
     "text": [
      "Using matplotlib backend: QtAgg\n"
     ]
    }
   ],
   "source": [
    "%matplotlib auto"
   ]
  },
  {
   "cell_type": "code",
   "execution_count": 31,
   "id": "a3248b06",
   "metadata": {
    "scrolled": true
   },
   "outputs": [],
   "source": [
    "tipo='nr'\n",
    "\n",
    "fig=plt.figure()\n",
    "ax=fig.gca()\n",
    "\n",
    "ani=animation.FuncAnimation(fig,actualizar,range(0,N,300))\n",
    "writergif = animation.PillowWriter(fps=30)\n",
    "ani.save('Alejo_numerico.gif',writer=writergif)\n",
    "plt.show()"
   ]
  },
  {
   "cell_type": "code",
   "execution_count": null,
   "id": "bd089a2e",
   "metadata": {},
   "outputs": [],
   "source": [
    "animation.FuncAnimation?"
   ]
  },
  {
   "cell_type": "code",
   "execution_count": null,
   "id": "ce03c0db",
   "metadata": {},
   "outputs": [],
   "source": []
  },
  {
   "cell_type": "code",
   "execution_count": 54,
   "id": "f5c91580",
   "metadata": {},
   "outputs": [],
   "source": [
    "vvy=[]\n",
    "for i in range(N):\n",
    "    vvy.append(Vy[:][i][-1])"
   ]
  },
  {
   "cell_type": "code",
   "execution_count": 12,
   "id": "d9c86c7d",
   "metadata": {},
   "outputs": [
    {
     "data": {
      "text/plain": [
       "array([[ 0.02477714,  0.10317297,  0.11810997, ...,  0.82750986,\n",
       "         0.83360833,  0.89026802],\n",
       "       [ 0.02477714,  0.10317292,  0.11810995, ...,  0.82750983,\n",
       "         0.83360832,  0.89026796],\n",
       "       [ 0.02477714,  0.10317277,  0.1181099 , ...,  0.82750971,\n",
       "         0.8336083 ,  0.89026777],\n",
       "       ...,\n",
       "       [ 0.02477714, -0.06583701, -0.22093779, ...,  0.41811241,\n",
       "         0.45881172,  0.5169183 ],\n",
       "       [ 0.02477714, -0.06581184, -0.22099167, ...,  0.41784095,\n",
       "         0.45861714,  0.51672635],\n",
       "       [ 0.02477714, -0.06578669, -0.22104541, ...,  0.41756929,\n",
       "         0.45842251,  0.51653429]])"
      ]
     },
     "execution_count": 12,
     "metadata": {},
     "output_type": "execute_result"
    }
   ],
   "source": []
  },
  {
   "cell_type": "code",
   "execution_count": null,
   "id": "ddb77c6a",
   "metadata": {},
   "outputs": [],
   "source": []
  }
 ],
 "metadata": {
  "kernelspec": {
   "display_name": "Python 3 (ipykernel)",
   "language": "python",
   "name": "python3"
  },
  "language_info": {
   "codemirror_mode": {
    "name": "ipython",
    "version": 3
   },
   "file_extension": ".py",
   "mimetype": "text/x-python",
   "name": "python",
   "nbconvert_exporter": "python",
   "pygments_lexer": "ipython3",
   "version": "3.9.12"
  }
 },
 "nbformat": 4,
 "nbformat_minor": 5
}
