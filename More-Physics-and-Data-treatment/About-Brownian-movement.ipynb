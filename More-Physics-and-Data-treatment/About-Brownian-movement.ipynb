{
 "cells": [
  {
   "cell_type": "code",
   "execution_count": 50,
   "id": "57c0cea1",
   "metadata": {},
   "outputs": [
    {
     "name": "stdout",
     "output_type": "stream",
     "text": [
      "Using matplotlib backend: QtAgg\n"
     ]
    }
   ],
   "source": [
    "import math \n",
    "import numpy as np\n",
    "import pandas as pd\n",
    "import matplotlib.pyplot as plt\n",
    "vector = np.vectorize(np.int_)\n",
    "%matplotlib auto"
   ]
  },
  {
   "cell_type": "code",
   "execution_count": 51,
   "id": "9322243a",
   "metadata": {},
   "outputs": [],
   "source": [
    "p=0.6\n",
    "q=0.4\n",
    "lamb=1\n",
    "N=5\n",
    "\n",
    "D=4*N*(lamb**2)*p*q\n",
    "sigma=2*lamb*np.sqrt(N*p*q)\n",
    "mu=N*lamb*(p-q)\n",
    "\n",
    "x=np.linspace(5,5,100)"
   ]
  },
  {
   "cell_type": "code",
   "execution_count": 5,
   "id": "f67332bf",
   "metadata": {},
   "outputs": [],
   "source": [
    "from scipy import special\n",
    "import numpy as np\n",
    "\n"
   ]
  },
  {
   "cell_type": "code",
   "execution_count": 6,
   "id": "72e7500d",
   "metadata": {},
   "outputs": [],
   "source": [
    "def Phi(x):\n",
    "    return 1/2 * special.erf(x/np.sqrt(2))\n",
    "def F(x):\n",
    "    return 1/2 + Phi((x-mu)/(sigma))\n",
    "def P(a,b):\n",
    "    return Phi((b-mu)/(sigma)) - Phi((a-mu)/(sigma))\n",
    "def f(x):\n",
    "    return 1/(sigma*np.sqrt(2*np.pi)) * np.exp((-(x-mu)**2)/(2* D))"
   ]
  },
  {
   "cell_type": "code",
   "execution_count": null,
   "id": "d90667cf",
   "metadata": {},
   "outputs": [],
   "source": []
  },
  {
   "cell_type": "code",
   "execution_count": 30,
   "id": "05388a3a",
   "metadata": {
    "scrolled": true
   },
   "outputs": [],
   "source": [
    "Posibles=np.arange(-5,5+2,2)\n",
    "Posibles=Posibles\n",
    "Probabilidades=np.array([0.01024,0.0768,0.2304,0.3456,0.2592,0.07776])\n",
    "Probabilidadesacumuladas=np.array([0.01024,0.08704,0.31744,0.66304,0.92224,1])\n",
    "\n",
    "\n",
    "\n",
    "plt.bar(Posibles,Probabilidades,label='Histogram',alpha=0.5,edgecolor='blue')\n",
    "plt.plot(Posibles,Probabilidades,'b*-',label='Polygon')\n",
    "plt.title('Brownian Movement',fontsize=18)\n",
    "plt.ylabel('$Probabilities$', fontsize = 15)\n",
    "plt.xlabel('$Position$ $[\\lambda]$', fontsize = 15)\n",
    "plt.legend(fontsize = 15)\n",
    "plt.xticks(np.arange(-5, 5+1, 1.0))\n",
    "plt.xticks(size = 15)\n",
    "plt.yticks(size = 15)\n",
    "plt.grid()"
   ]
  },
  {
   "cell_type": "code",
   "execution_count": 49,
   "id": "a0b4ca1f",
   "metadata": {},
   "outputs": [],
   "source": [
    "posibles=np.arange(-7,5+2,2)\n",
    "posibles=posibles+1\n",
    "probabilidades=np.array([0,0.01024,0.0768,0.2304,0.3456,0.2592,0.07776])\n",
    "probabilidadesacumuladas=np.array([0,0.01024,0.08704,0.31744,0.66304,0.92224,1])\n",
    "\n",
    "plt.scatter(Posibles,Probabilidadesacumuladas,marker='*',color='b')\n",
    "plt.step(posibles,probabilidadesacumuladas, where = 'mid',label='Distribution function',color='r', linewidth = 3)\n",
    "plt.title('Brownian Movement',fontsize=18)\n",
    "plt.ylabel('$Probabilities$', fontsize = 15)\n",
    "plt.xlabel('$Position$ $[\\lambda]$', fontsize = 15)\n",
    "plt.legend(fontsize = 15)\n",
    "plt.xticks(np.arange(-5, 5+1, 1.0))\n",
    "plt.xticks(size = 15)\n",
    "plt.yticks(size = 15)\n",
    "plt.grid()"
   ]
  },
  {
   "cell_type": "code",
   "execution_count": null,
   "id": "7433772b",
   "metadata": {},
   "outputs": [],
   "source": [
    "plt.plot(Posibles,Probabilidades,label='Poligono')\n",
    "plt.grid()\n",
    "plt.legend()"
   ]
  },
  {
   "cell_type": "code",
   "execution_count": null,
   "id": "0ade8422",
   "metadata": {},
   "outputs": [],
   "source": [
    "P(25,50)"
   ]
  },
  {
   "cell_type": "code",
   "execution_count": null,
   "id": "e8fab97e",
   "metadata": {},
   "outputs": [],
   "source": [
    "F(15)"
   ]
  },
  {
   "cell_type": "code",
   "execution_count": null,
   "id": "6f121c25",
   "metadata": {},
   "outputs": [],
   "source": [
    "mu"
   ]
  },
  {
   "cell_type": "code",
   "execution_count": 39,
   "id": "d01cea13",
   "metadata": {},
   "outputs": [],
   "source": [
    "plt.scatter?"
   ]
  },
  {
   "cell_type": "code",
   "execution_count": 52,
   "id": "7e96f6c1",
   "metadata": {},
   "outputs": [
    {
     "data": {
      "text/plain": [
       "4.800000000000001"
      ]
     },
     "execution_count": 52,
     "metadata": {},
     "output_type": "execute_result"
    }
   ],
   "source": [
    "D"
   ]
  },
  {
   "cell_type": "code",
   "execution_count": 53,
   "id": "71e00227",
   "metadata": {},
   "outputs": [
    {
     "data": {
      "text/plain": [
       "2.1908902300206647"
      ]
     },
     "execution_count": 53,
     "metadata": {},
     "output_type": "execute_result"
    }
   ],
   "source": [
    "sigma"
   ]
  },
  {
   "cell_type": "code",
   "execution_count": 54,
   "id": "49e458f2",
   "metadata": {},
   "outputs": [
    {
     "data": {
      "text/plain": [
       "0.9999999999999998"
      ]
     },
     "execution_count": 54,
     "metadata": {},
     "output_type": "execute_result"
    }
   ],
   "source": [
    "mu"
   ]
  },
  {
   "cell_type": "code",
   "execution_count": null,
   "id": "709cba27",
   "metadata": {},
   "outputs": [],
   "source": []
  }
 ],
 "metadata": {
  "kernelspec": {
   "display_name": "Python 3 (ipykernel)",
   "language": "python",
   "name": "python3"
  },
  "language_info": {
   "codemirror_mode": {
    "name": "ipython",
    "version": 3
   },
   "file_extension": ".py",
   "mimetype": "text/x-python",
   "name": "python",
   "nbconvert_exporter": "python",
   "pygments_lexer": "ipython3",
   "version": "3.9.12"
  }
 },
 "nbformat": 4,
 "nbformat_minor": 5
}
